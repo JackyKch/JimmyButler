{
 "cells": [
  {
   "cell_type": "markdown",
   "metadata": {},
   "source": [
    "## Imports "
   ]
  },
  {
   "cell_type": "code",
   "execution_count": 1,
   "metadata": {},
   "outputs": [],
   "source": [
    "import pandas as pd \n",
    "import numpy as np \n",
    "\n",
    "from scipy import stats\n",
    "import math \n",
    "\n",
    "from mplsoccer import PyPizza, add_image, FontManager\n",
    "import matplotlib.pyplot as plt \n",
    "\n",
    "from PIL import Image"
   ]
  },
  {
   "cell_type": "markdown",
   "metadata": {},
   "source": [
    "## Retrieve college stats for 2011 first Round Draft picks"
   ]
  },
  {
   "cell_type": "code",
   "execution_count": 2,
   "metadata": {},
   "outputs": [],
   "source": [
    "college = pd.read_csv(\"../data/college_stats.csv\")"
   ]
  },
  {
   "cell_type": "code",
   "execution_count": 3,
   "metadata": {},
   "outputs": [
    {
     "data": {
      "text/plain": [
       "(24, 27)"
      ]
     },
     "execution_count": 3,
     "metadata": {},
     "output_type": "execute_result"
    }
   ],
   "source": [
    "college.shape"
   ]
  },
  {
   "cell_type": "code",
   "execution_count": 4,
   "metadata": {},
   "outputs": [
    {
     "data": {
      "text/html": [
       "<div>\n",
       "<style scoped>\n",
       "    .dataframe tbody tr th:only-of-type {\n",
       "        vertical-align: middle;\n",
       "    }\n",
       "\n",
       "    .dataframe tbody tr th {\n",
       "        vertical-align: top;\n",
       "    }\n",
       "\n",
       "    .dataframe thead th {\n",
       "        text-align: right;\n",
       "    }\n",
       "</style>\n",
       "<table border=\"1\" class=\"dataframe\">\n",
       "  <thead>\n",
       "    <tr style=\"text-align: right;\">\n",
       "      <th></th>\n",
       "      <th>Player</th>\n",
       "      <th>Season</th>\n",
       "      <th>Age</th>\n",
       "      <th>College</th>\n",
       "      <th>G</th>\n",
       "      <th>MP</th>\n",
       "      <th>FG</th>\n",
       "      <th>FGA</th>\n",
       "      <th>3P</th>\n",
       "      <th>3PA</th>\n",
       "      <th>...</th>\n",
       "      <th>TOV</th>\n",
       "      <th>PF</th>\n",
       "      <th>PTS</th>\n",
       "      <th>FG%</th>\n",
       "      <th>3P%</th>\n",
       "      <th>FT%</th>\n",
       "      <th>MP/G</th>\n",
       "      <th>PTS/G</th>\n",
       "      <th>RB/G</th>\n",
       "      <th>AST/G</th>\n",
       "    </tr>\n",
       "  </thead>\n",
       "  <tbody>\n",
       "    <tr>\n",
       "      <th>0</th>\n",
       "      <td>Jimmy Butler</td>\n",
       "      <td>2010-11</td>\n",
       "      <td>21</td>\n",
       "      <td>MARQUETTE</td>\n",
       "      <td>37</td>\n",
       "      <td>1282</td>\n",
       "      <td>187</td>\n",
       "      <td>382</td>\n",
       "      <td>20</td>\n",
       "      <td>58</td>\n",
       "      <td>...</td>\n",
       "      <td>54</td>\n",
       "      <td>49</td>\n",
       "      <td>582</td>\n",
       "      <td>0.490</td>\n",
       "      <td>0.345</td>\n",
       "      <td>0.783</td>\n",
       "      <td>34.6</td>\n",
       "      <td>15.7</td>\n",
       "      <td>6.1</td>\n",
       "      <td>2.3</td>\n",
       "    </tr>\n",
       "    <tr>\n",
       "      <th>1</th>\n",
       "      <td>Kyrie Irving</td>\n",
       "      <td>2010-11</td>\n",
       "      <td>18</td>\n",
       "      <td>DUKE</td>\n",
       "      <td>11</td>\n",
       "      <td>303</td>\n",
       "      <td>55</td>\n",
       "      <td>104</td>\n",
       "      <td>18</td>\n",
       "      <td>39</td>\n",
       "      <td>...</td>\n",
       "      <td>27</td>\n",
       "      <td>23</td>\n",
       "      <td>192</td>\n",
       "      <td>0.529</td>\n",
       "      <td>0.462</td>\n",
       "      <td>0.901</td>\n",
       "      <td>27.5</td>\n",
       "      <td>17.5</td>\n",
       "      <td>3.4</td>\n",
       "      <td>4.3</td>\n",
       "    </tr>\n",
       "    <tr>\n",
       "      <th>2</th>\n",
       "      <td>Derrick Williams</td>\n",
       "      <td>2010-11</td>\n",
       "      <td>19</td>\n",
       "      <td>ARIZONA</td>\n",
       "      <td>38</td>\n",
       "      <td>1141</td>\n",
       "      <td>226</td>\n",
       "      <td>380</td>\n",
       "      <td>42</td>\n",
       "      <td>74</td>\n",
       "      <td>...</td>\n",
       "      <td>100</td>\n",
       "      <td>106</td>\n",
       "      <td>741</td>\n",
       "      <td>0.595</td>\n",
       "      <td>0.568</td>\n",
       "      <td>0.746</td>\n",
       "      <td>30.0</td>\n",
       "      <td>19.5</td>\n",
       "      <td>8.3</td>\n",
       "      <td>1.1</td>\n",
       "    </tr>\n",
       "    <tr>\n",
       "      <th>3</th>\n",
       "      <td>Tristan Thompson</td>\n",
       "      <td>2010-11</td>\n",
       "      <td>19</td>\n",
       "      <td>TEXAS</td>\n",
       "      <td>36</td>\n",
       "      <td>1104</td>\n",
       "      <td>172</td>\n",
       "      <td>315</td>\n",
       "      <td>0</td>\n",
       "      <td>0</td>\n",
       "      <td>...</td>\n",
       "      <td>64</td>\n",
       "      <td>100</td>\n",
       "      <td>471</td>\n",
       "      <td>0.546</td>\n",
       "      <td>NaN</td>\n",
       "      <td>0.487</td>\n",
       "      <td>30.7</td>\n",
       "      <td>13.1</td>\n",
       "      <td>7.8</td>\n",
       "      <td>1.3</td>\n",
       "    </tr>\n",
       "    <tr>\n",
       "      <th>4</th>\n",
       "      <td>Brandon Knight</td>\n",
       "      <td>2010-11</td>\n",
       "      <td>19</td>\n",
       "      <td>KENTUCKY</td>\n",
       "      <td>38</td>\n",
       "      <td>1363</td>\n",
       "      <td>217</td>\n",
       "      <td>513</td>\n",
       "      <td>87</td>\n",
       "      <td>231</td>\n",
       "      <td>...</td>\n",
       "      <td>120</td>\n",
       "      <td>83</td>\n",
       "      <td>657</td>\n",
       "      <td>0.423</td>\n",
       "      <td>0.377</td>\n",
       "      <td>0.795</td>\n",
       "      <td>35.9</td>\n",
       "      <td>17.3</td>\n",
       "      <td>4.0</td>\n",
       "      <td>4.2</td>\n",
       "    </tr>\n",
       "  </tbody>\n",
       "</table>\n",
       "<p>5 rows × 27 columns</p>\n",
       "</div>"
      ],
      "text/plain": [
       "             Player   Season  Age    College   G    MP   FG  FGA  3P  3PA  \\\n",
       "0      Jimmy Butler  2010-11   21  MARQUETTE  37  1282  187  382  20   58   \n",
       "1      Kyrie Irving  2010-11   18       DUKE  11   303   55  104  18   39   \n",
       "2  Derrick Williams  2010-11   19    ARIZONA  38  1141  226  380  42   74   \n",
       "3  Tristan Thompson  2010-11   19      TEXAS  36  1104  172  315   0    0   \n",
       "4    Brandon Knight  2010-11   19   KENTUCKY  38  1363  217  513  87  231   \n",
       "\n",
       "   ...  TOV   PF  PTS    FG%    3P%    FT%  MP/G  PTS/G  RB/G  AST/G  \n",
       "0  ...   54   49  582  0.490  0.345  0.783  34.6   15.7   6.1    2.3  \n",
       "1  ...   27   23  192  0.529  0.462  0.901  27.5   17.5   3.4    4.3  \n",
       "2  ...  100  106  741  0.595  0.568  0.746  30.0   19.5   8.3    1.1  \n",
       "3  ...   64  100  471  0.546    NaN  0.487  30.7   13.1   7.8    1.3  \n",
       "4  ...  120   83  657  0.423  0.377  0.795  35.9   17.3   4.0    4.2  \n",
       "\n",
       "[5 rows x 27 columns]"
      ]
     },
     "execution_count": 4,
     "metadata": {},
     "output_type": "execute_result"
    }
   ],
   "source": [
    "college.head()"
   ]
  },
  {
   "cell_type": "code",
   "execution_count": 5,
   "metadata": {},
   "outputs": [],
   "source": [
    "butler_cropped = Image.open(\"../assets/butler_cropped_image.png\")"
   ]
  },
  {
   "cell_type": "markdown",
   "metadata": {},
   "source": [
    "## Clean college data"
   ]
  },
  {
   "cell_type": "code",
   "execution_count": 6,
   "metadata": {},
   "outputs": [
    {
     "data": {
      "text/html": [
       "<div>\n",
       "<style scoped>\n",
       "    .dataframe tbody tr th:only-of-type {\n",
       "        vertical-align: middle;\n",
       "    }\n",
       "\n",
       "    .dataframe tbody tr th {\n",
       "        vertical-align: top;\n",
       "    }\n",
       "\n",
       "    .dataframe thead th {\n",
       "        text-align: right;\n",
       "    }\n",
       "</style>\n",
       "<table border=\"1\" class=\"dataframe\">\n",
       "  <thead>\n",
       "    <tr style=\"text-align: right;\">\n",
       "      <th></th>\n",
       "      <th>Player</th>\n",
       "      <th>Season</th>\n",
       "      <th>Age</th>\n",
       "      <th>College</th>\n",
       "      <th>G</th>\n",
       "      <th>MP</th>\n",
       "      <th>FG</th>\n",
       "      <th>FGA</th>\n",
       "      <th>3P</th>\n",
       "      <th>3PA</th>\n",
       "      <th>...</th>\n",
       "      <th>TOV</th>\n",
       "      <th>PF</th>\n",
       "      <th>PTS</th>\n",
       "      <th>FG%</th>\n",
       "      <th>3P%</th>\n",
       "      <th>FT%</th>\n",
       "      <th>MP/G</th>\n",
       "      <th>PTS/G</th>\n",
       "      <th>RB/G</th>\n",
       "      <th>AST/G</th>\n",
       "    </tr>\n",
       "  </thead>\n",
       "  <tbody>\n",
       "    <tr>\n",
       "      <th>0</th>\n",
       "      <td>Jimmy Butler</td>\n",
       "      <td>2010-11</td>\n",
       "      <td>21</td>\n",
       "      <td>MARQUETTE</td>\n",
       "      <td>37</td>\n",
       "      <td>1282</td>\n",
       "      <td>187</td>\n",
       "      <td>382</td>\n",
       "      <td>20</td>\n",
       "      <td>58</td>\n",
       "      <td>...</td>\n",
       "      <td>54</td>\n",
       "      <td>49</td>\n",
       "      <td>582</td>\n",
       "      <td>0.490</td>\n",
       "      <td>0.345</td>\n",
       "      <td>0.783</td>\n",
       "      <td>34.6</td>\n",
       "      <td>15.7</td>\n",
       "      <td>6.1</td>\n",
       "      <td>2.3</td>\n",
       "    </tr>\n",
       "    <tr>\n",
       "      <th>1</th>\n",
       "      <td>Kyrie Irving</td>\n",
       "      <td>2010-11</td>\n",
       "      <td>18</td>\n",
       "      <td>DUKE</td>\n",
       "      <td>11</td>\n",
       "      <td>303</td>\n",
       "      <td>55</td>\n",
       "      <td>104</td>\n",
       "      <td>18</td>\n",
       "      <td>39</td>\n",
       "      <td>...</td>\n",
       "      <td>27</td>\n",
       "      <td>23</td>\n",
       "      <td>192</td>\n",
       "      <td>0.529</td>\n",
       "      <td>0.462</td>\n",
       "      <td>0.901</td>\n",
       "      <td>27.5</td>\n",
       "      <td>17.5</td>\n",
       "      <td>3.4</td>\n",
       "      <td>4.3</td>\n",
       "    </tr>\n",
       "    <tr>\n",
       "      <th>2</th>\n",
       "      <td>Derrick Williams</td>\n",
       "      <td>2010-11</td>\n",
       "      <td>19</td>\n",
       "      <td>ARIZONA</td>\n",
       "      <td>38</td>\n",
       "      <td>1141</td>\n",
       "      <td>226</td>\n",
       "      <td>380</td>\n",
       "      <td>42</td>\n",
       "      <td>74</td>\n",
       "      <td>...</td>\n",
       "      <td>100</td>\n",
       "      <td>106</td>\n",
       "      <td>741</td>\n",
       "      <td>0.595</td>\n",
       "      <td>0.568</td>\n",
       "      <td>0.746</td>\n",
       "      <td>30.0</td>\n",
       "      <td>19.5</td>\n",
       "      <td>8.3</td>\n",
       "      <td>1.1</td>\n",
       "    </tr>\n",
       "    <tr>\n",
       "      <th>3</th>\n",
       "      <td>Tristan Thompson</td>\n",
       "      <td>2010-11</td>\n",
       "      <td>19</td>\n",
       "      <td>TEXAS</td>\n",
       "      <td>36</td>\n",
       "      <td>1104</td>\n",
       "      <td>172</td>\n",
       "      <td>315</td>\n",
       "      <td>0</td>\n",
       "      <td>0</td>\n",
       "      <td>...</td>\n",
       "      <td>64</td>\n",
       "      <td>100</td>\n",
       "      <td>471</td>\n",
       "      <td>0.546</td>\n",
       "      <td>NaN</td>\n",
       "      <td>0.487</td>\n",
       "      <td>30.7</td>\n",
       "      <td>13.1</td>\n",
       "      <td>7.8</td>\n",
       "      <td>1.3</td>\n",
       "    </tr>\n",
       "    <tr>\n",
       "      <th>4</th>\n",
       "      <td>Brandon Knight</td>\n",
       "      <td>2010-11</td>\n",
       "      <td>19</td>\n",
       "      <td>KENTUCKY</td>\n",
       "      <td>38</td>\n",
       "      <td>1363</td>\n",
       "      <td>217</td>\n",
       "      <td>513</td>\n",
       "      <td>87</td>\n",
       "      <td>231</td>\n",
       "      <td>...</td>\n",
       "      <td>120</td>\n",
       "      <td>83</td>\n",
       "      <td>657</td>\n",
       "      <td>0.423</td>\n",
       "      <td>0.377</td>\n",
       "      <td>0.795</td>\n",
       "      <td>35.9</td>\n",
       "      <td>17.3</td>\n",
       "      <td>4.0</td>\n",
       "      <td>4.2</td>\n",
       "    </tr>\n",
       "  </tbody>\n",
       "</table>\n",
       "<p>5 rows × 27 columns</p>\n",
       "</div>"
      ],
      "text/plain": [
       "             Player   Season  Age    College   G    MP   FG  FGA  3P  3PA  \\\n",
       "0      Jimmy Butler  2010-11   21  MARQUETTE  37  1282  187  382  20   58   \n",
       "1      Kyrie Irving  2010-11   18       DUKE  11   303   55  104  18   39   \n",
       "2  Derrick Williams  2010-11   19    ARIZONA  38  1141  226  380  42   74   \n",
       "3  Tristan Thompson  2010-11   19      TEXAS  36  1104  172  315   0    0   \n",
       "4    Brandon Knight  2010-11   19   KENTUCKY  38  1363  217  513  87  231   \n",
       "\n",
       "   ...  TOV   PF  PTS    FG%    3P%    FT%  MP/G  PTS/G  RB/G  AST/G  \n",
       "0  ...   54   49  582  0.490  0.345  0.783  34.6   15.7   6.1    2.3  \n",
       "1  ...   27   23  192  0.529  0.462  0.901  27.5   17.5   3.4    4.3  \n",
       "2  ...  100  106  741  0.595  0.568  0.746  30.0   19.5   8.3    1.1  \n",
       "3  ...   64  100  471  0.546    NaN  0.487  30.7   13.1   7.8    1.3  \n",
       "4  ...  120   83  657  0.423  0.377  0.795  35.9   17.3   4.0    4.2  \n",
       "\n",
       "[5 rows x 27 columns]"
      ]
     },
     "execution_count": 6,
     "metadata": {},
     "output_type": "execute_result"
    }
   ],
   "source": [
    "college.head()"
   ]
  },
  {
   "cell_type": "markdown",
   "metadata": {},
   "source": [
    "## Load some fonts"
   ]
  },
  {
   "cell_type": "code",
   "execution_count": 7,
   "metadata": {},
   "outputs": [],
   "source": [
    "font_normal = FontManager((\"https://github.com/google/fonts/blob/main/apache/roboto/static/\"\n",
    "                           \"Roboto-Regular.ttf?raw=true\"))\n",
    "font_italic = FontManager((\"https://github.com/google/fonts/blob/main/apache/roboto/static/\"\n",
    "                           \"Roboto-Italic.ttf?raw=true\"))\n",
    "font_bold = FontManager((\"https://github.com/google/fonts/blob/main/apache/roboto/static/\"\n",
    "                         \"Roboto-Medium.ttf?raw=true\"))"
   ]
  },
  {
   "cell_type": "markdown",
   "metadata": {},
   "source": [
    "## Select some columns"
   ]
  },
  {
   "cell_type": "code",
   "execution_count": 8,
   "metadata": {},
   "outputs": [
    {
     "data": {
      "text/plain": [
       "Index(['Player', 'Season', 'Age', 'College', 'G', 'MP', 'FG', 'FGA', '3P',\n",
       "       '3PA', 'FT', 'FTA', 'ORB', 'TRB', 'AST', 'STL', 'BLK', 'TOV', 'PF',\n",
       "       'PTS', 'FG%', '3P%', 'FT%', 'MP/G', 'PTS/G', 'RB/G', 'AST/G'],\n",
       "      dtype='object')"
      ]
     },
     "execution_count": 8,
     "metadata": {},
     "output_type": "execute_result"
    }
   ],
   "source": [
    "college.columns"
   ]
  },
  {
   "cell_type": "code",
   "execution_count": 9,
   "metadata": {},
   "outputs": [],
   "source": [
    "college['STL/G'] = college['STL']/college['G']\n",
    "college['BLK/G'] = college['BLK']/college['G']"
   ]
  },
  {
   "cell_type": "code",
   "execution_count": 10,
   "metadata": {},
   "outputs": [],
   "source": [
    "params = ['MP/G', 'PTS/G', 'AST/G', 'RB/G', 'STL/G', 'BLK/G', 'FG%', '3P%', 'FT%']"
   ]
  },
  {
   "cell_type": "markdown",
   "metadata": {},
   "source": [
    "## Select Butler data"
   ]
  },
  {
   "cell_type": "code",
   "execution_count": 11,
   "metadata": {},
   "outputs": [],
   "source": [
    "player = college.loc[college['Player']=='Jimmy Butler'].reset_index()"
   ]
  },
  {
   "cell_type": "code",
   "execution_count": 12,
   "metadata": {},
   "outputs": [
    {
     "data": {
      "text/html": [
       "<div>\n",
       "<style scoped>\n",
       "    .dataframe tbody tr th:only-of-type {\n",
       "        vertical-align: middle;\n",
       "    }\n",
       "\n",
       "    .dataframe tbody tr th {\n",
       "        vertical-align: top;\n",
       "    }\n",
       "\n",
       "    .dataframe thead th {\n",
       "        text-align: right;\n",
       "    }\n",
       "</style>\n",
       "<table border=\"1\" class=\"dataframe\">\n",
       "  <thead>\n",
       "    <tr style=\"text-align: right;\">\n",
       "      <th></th>\n",
       "      <th>index</th>\n",
       "      <th>Player</th>\n",
       "      <th>Season</th>\n",
       "      <th>Age</th>\n",
       "      <th>College</th>\n",
       "      <th>G</th>\n",
       "      <th>MP</th>\n",
       "      <th>FG</th>\n",
       "      <th>FGA</th>\n",
       "      <th>3P</th>\n",
       "      <th>...</th>\n",
       "      <th>PTS</th>\n",
       "      <th>FG%</th>\n",
       "      <th>3P%</th>\n",
       "      <th>FT%</th>\n",
       "      <th>MP/G</th>\n",
       "      <th>PTS/G</th>\n",
       "      <th>RB/G</th>\n",
       "      <th>AST/G</th>\n",
       "      <th>STL/G</th>\n",
       "      <th>BLK/G</th>\n",
       "    </tr>\n",
       "  </thead>\n",
       "  <tbody>\n",
       "    <tr>\n",
       "      <th>0</th>\n",
       "      <td>0</td>\n",
       "      <td>Jimmy Butler</td>\n",
       "      <td>2010-11</td>\n",
       "      <td>21</td>\n",
       "      <td>MARQUETTE</td>\n",
       "      <td>37</td>\n",
       "      <td>1282</td>\n",
       "      <td>187</td>\n",
       "      <td>382</td>\n",
       "      <td>20</td>\n",
       "      <td>...</td>\n",
       "      <td>582</td>\n",
       "      <td>0.49</td>\n",
       "      <td>0.345</td>\n",
       "      <td>0.783</td>\n",
       "      <td>34.6</td>\n",
       "      <td>15.7</td>\n",
       "      <td>6.1</td>\n",
       "      <td>2.3</td>\n",
       "      <td>1.432432</td>\n",
       "      <td>0.351351</td>\n",
       "    </tr>\n",
       "  </tbody>\n",
       "</table>\n",
       "<p>1 rows × 30 columns</p>\n",
       "</div>"
      ],
      "text/plain": [
       "   index        Player   Season  Age    College   G    MP   FG  FGA  3P  ...  \\\n",
       "0      0  Jimmy Butler  2010-11   21  MARQUETTE  37  1282  187  382  20  ...   \n",
       "\n",
       "   PTS   FG%    3P%    FT%  MP/G  PTS/G  RB/G  AST/G     STL/G     BLK/G  \n",
       "0  582  0.49  0.345  0.783  34.6   15.7   6.1    2.3  1.432432  0.351351  \n",
       "\n",
       "[1 rows x 30 columns]"
      ]
     },
     "execution_count": 12,
     "metadata": {},
     "output_type": "execute_result"
    }
   ],
   "source": [
    "player"
   ]
  },
  {
   "cell_type": "code",
   "execution_count": 13,
   "metadata": {},
   "outputs": [],
   "source": [
    "player = player[params]"
   ]
  },
  {
   "cell_type": "code",
   "execution_count": 14,
   "metadata": {},
   "outputs": [
    {
     "data": {
      "text/html": [
       "<div>\n",
       "<style scoped>\n",
       "    .dataframe tbody tr th:only-of-type {\n",
       "        vertical-align: middle;\n",
       "    }\n",
       "\n",
       "    .dataframe tbody tr th {\n",
       "        vertical-align: top;\n",
       "    }\n",
       "\n",
       "    .dataframe thead th {\n",
       "        text-align: right;\n",
       "    }\n",
       "</style>\n",
       "<table border=\"1\" class=\"dataframe\">\n",
       "  <thead>\n",
       "    <tr style=\"text-align: right;\">\n",
       "      <th></th>\n",
       "      <th>MP/G</th>\n",
       "      <th>PTS/G</th>\n",
       "      <th>AST/G</th>\n",
       "      <th>RB/G</th>\n",
       "      <th>STL/G</th>\n",
       "      <th>BLK/G</th>\n",
       "      <th>FG%</th>\n",
       "      <th>3P%</th>\n",
       "      <th>FT%</th>\n",
       "    </tr>\n",
       "  </thead>\n",
       "  <tbody>\n",
       "    <tr>\n",
       "      <th>0</th>\n",
       "      <td>34.6</td>\n",
       "      <td>15.7</td>\n",
       "      <td>2.3</td>\n",
       "      <td>6.1</td>\n",
       "      <td>1.432432</td>\n",
       "      <td>0.351351</td>\n",
       "      <td>0.49</td>\n",
       "      <td>0.345</td>\n",
       "      <td>0.783</td>\n",
       "    </tr>\n",
       "  </tbody>\n",
       "</table>\n",
       "</div>"
      ],
      "text/plain": [
       "   MP/G  PTS/G  AST/G  RB/G     STL/G     BLK/G   FG%    3P%    FT%\n",
       "0  34.6   15.7    2.3   6.1  1.432432  0.351351  0.49  0.345  0.783"
      ]
     },
     "execution_count": 14,
     "metadata": {},
     "output_type": "execute_result"
    }
   ],
   "source": [
    "player"
   ]
  },
  {
   "cell_type": "code",
   "execution_count": 15,
   "metadata": {},
   "outputs": [
    {
     "name": "stdout",
     "output_type": "stream",
     "text": [
      "[34.6, 15.7, 2.3, 6.1, 1.4324324324324325, 0.35135135135135137, 0.49, 0.345, 0.783]\n"
     ]
    }
   ],
   "source": [
    "player = list(player.loc[0])\n",
    "print(player)"
   ]
  },
  {
   "cell_type": "code",
   "execution_count": 16,
   "metadata": {},
   "outputs": [
    {
     "name": "stdout",
     "output_type": "stream",
     "text": [
      "9 9\n"
     ]
    }
   ],
   "source": [
    "print(len(params), len(player))"
   ]
  },
  {
   "cell_type": "markdown",
   "metadata": {},
   "source": [
    "## Calculate the percentiles"
   ]
  },
  {
   "cell_type": "code",
   "execution_count": 17,
   "metadata": {},
   "outputs": [],
   "source": [
    "values = []\n",
    "for x in range(len(params)):   \n",
    "    values.append(math.floor(stats.percentileofscore(college[params[x]],player[x])))"
   ]
  },
  {
   "cell_type": "code",
   "execution_count": 18,
   "metadata": {},
   "outputs": [
    {
     "data": {
      "text/plain": [
       "62"
      ]
     },
     "execution_count": 18,
     "metadata": {},
     "output_type": "execute_result"
    }
   ],
   "source": [
    "round(stats.percentileofscore(college[params[0]],player[0]))"
   ]
  },
  {
   "cell_type": "code",
   "execution_count": 19,
   "metadata": {},
   "outputs": [],
   "source": [
    "for n,i in enumerate(values):\n",
    "    if i == 100:\n",
    "        values[n] = 99"
   ]
  },
  {
   "cell_type": "markdown",
   "metadata": {},
   "source": [
    "## Build the pizza"
   ]
  },
  {
   "cell_type": "code",
   "execution_count": 21,
   "metadata": {},
   "outputs": [
    {
     "data": {
      "image/png": "[encoded data removed]",
      "text/plain": [
       "<Figure size 720x756 with 2 Axes>"
      ]
     },
     "metadata": {},
     "output_type": "display_data"
    }
   ],
   "source": [
    "# color for the slices and text\n",
    "slice_colors = [\"#2bb6e0\"] * 3 + [\"#8A0F77\"] * 3 + [\"#0660A6\"] * 3\n",
    "text_colors = [\"#000000\"] * 6 + [\"#F2F2F2\"] * 3\n",
    "\n",
    "# instantiate PyPizza class\n",
    "baker = PyPizza(\n",
    "    params=params,                  # list of parameters\n",
    "    background_color=\"#08143D\",     # background color\n",
    "    straight_line_color=\"#000000\",  # color for straight lines\n",
    "    straight_line_lw=1,             # linewidth for straight lines\n",
    "    last_circle_color=\"#000000\",    # color for last line\n",
    "    last_circle_lw=1,               # linewidth of last circle\n",
    "    other_circle_lw=0,              # linewidth for other circles\n",
    "    inner_circle_size=22           # size of inner circle\n",
    ")\n",
    "\n",
    "# plot pizza\n",
    "fig, ax = baker.make_pizza(\n",
    "    values,                          # list of values\n",
    "    figsize=(10, 10.5),                # adjust the figsize according to your need\n",
    "    color_blank_space=\"same\",        # use the same color to fill blank space\n",
    "    slice_colors=slice_colors,       # color for individual slices\n",
    "    value_colors=text_colors,        # color for the value-text\n",
    "    value_bck_colors=slice_colors,   # color for the blank spaces\n",
    "    blank_alpha=0.4,                 # alpha for blank-space colors\n",
    "    kwargs_slices=dict(\n",
    "        edgecolor=\"#000000\", zorder=2, linewidth=1\n",
    "    ),                               # values to be used when plotting slices\n",
    "    kwargs_params=dict(\n",
    "        color=\"#F2F2F2\", fontsize=12,\n",
    "        fontproperties=font_normal.prop, va=\"center\"\n",
    "    ),                               # values to be used when adding parameter labels\n",
    "    kwargs_values=dict(\n",
    "        color=\"#F2F2F2\", fontsize=12,\n",
    "        fontproperties=font_normal.prop, zorder=3,\n",
    "        bbox=dict(\n",
    "            edgecolor=\"#000000\", facecolor=\"cornflowerblue\",\n",
    "            boxstyle=\"round,pad=0.2\", lw=1\n",
    "        )\n",
    "    )                                # values to be used when adding parameter-values labels\n",
    ")\n",
    "\n",
    "# add title\n",
    "fig.text(0.515, 0.975, \"Jimmy Butler - Marquette University\", size=20,ha=\"center\", fontname = 'Impact', color=\"#F2F2F2\")\n",
    "\n",
    "# add subtitle\n",
    "fig.text(0.515, 0.95,\"Percentile Rank vs 2021 First Round Drafted Players | College Stats 2010-11\", size=17, ha=\"center\", fontname = 'Impact', color=\"#F2F2F2\", fontweight=\"light\")\n",
    "\n",
    "# add credits\n",
    "CREDIT_1 = \"Data from Basketball Reference\"\n",
    "CREDIT_2 = \"inspired by: @Worville, @FootballSlices, @somazerofc & @Soumyaj15209314\"\n",
    "\n",
    "fig.text(\n",
    "    0.99, 0.02, f\"{CREDIT_1}\\n{CREDIT_2}\", size=13,\n",
    "    fontproperties=font_italic.prop, color=\"#F2F2F2\",\n",
    "    ha=\"right\")\n",
    "    \n",
    "fig.text(0.25, 0.02, \"Created by Jacky KUOCH\", size=13, fontproperties=font_italic.prop, color=\"#F2F2F2\",ha=\"right\")\n",
    "\n",
    "# add text\n",
    "fig.text(0.28, 0.92, \"Playmaking\", size=14, fontproperties=font_bold.prop, color=\"#F2F2F2\")\n",
    "fig.text(0.48, 0.92, \"Defensive\", size=14, fontproperties=font_bold.prop, color=\"#F2F2F2\")\n",
    "fig.text(0.672, 0.92, \"Shooting\", size=14, fontproperties=font_bold.prop, color=\"#F2F2F2\")\n",
    "\n",
    "# add rectangles\n",
    "fig.patches.extend([\n",
    "    plt.Rectangle(\n",
    "        (0.25, 0.917), 0.025, 0.021, fill=True, color=\"#2bb6e0\",\n",
    "        transform=fig.transFigure, figure=fig\n",
    "    ),\n",
    "    plt.Rectangle(\n",
    "        (0.45, 0.917), 0.025, 0.021, fill=True, color=\"#8A0F77\",\n",
    "        transform=fig.transFigure, figure=fig\n",
    "    ),\n",
    "    plt.Rectangle(\n",
    "        (0.64, 0.917), 0.025, 0.021, fill=True, color=\"#0660A6\",\n",
    "        transform=fig.transFigure, figure=fig\n",
    "    ),\n",
    "])\n",
    "\n",
    "# add image\n",
    "ax_image = add_image(butler_cropped, fig, left=0.439, bottom=0.438, width=0.145, height=0.130)\n",
    "\n",
    "\n",
    "plt.show()"
   ]
  },
  {
   "cell_type": "code",
   "execution_count": null,
   "metadata": {},
   "outputs": [],
   "source": []
  }
 ],
 "metadata": {
  "interpreter": {
   "hash": "6f63aac4862f49defdc0ab97c706aeed6401f5109f2f5eb8ddfd96c2030351e5"
  },
  "kernelspec": {
   "display_name": "Python 3.9.0 64-bit",
   "name": "python3"
  },
  "language_info": {
   "codemirror_mode": {
    "name": "ipython",
    "version": 3
   },
   "file_extension": ".py",
   "mimetype": "text/x-python",
   "name": "python",
   "nbconvert_exporter": "python",
   "pygments_lexer": "ipython3",
   "version": "3.8.9"
  },
  "metadata": {
   "interpreter": {
    "hash": "6f63aac4862f49defdc0ab97c706aeed6401f5109f2f5eb8ddfd96c2030351e5"
   }
  },
  "orig_nbformat": 2
 },
 "nbformat": 4,
 "nbformat_minor": 2
}
